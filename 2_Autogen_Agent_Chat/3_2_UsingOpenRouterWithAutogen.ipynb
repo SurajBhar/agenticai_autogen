{
 "cells": [
  {
   "cell_type": "markdown",
   "id": "56ac296d",
   "metadata": {},
   "source": [
    "# Using Autogen with OpenRouter API ( Free API Key :) "
   ]
  },
  {
   "cell_type": "markdown",
   "id": "395be4eb",
   "metadata": {},
   "source": [
    "1. OpenAI\n",
    "2. Local ollama setup (llama or mistral)\n"
   ]
  },
  {
   "cell_type": "code",
   "execution_count": 8,
   "id": "68c71357",
   "metadata": {},
   "outputs": [
    {
     "data": {
      "text/plain": [
       "True"
      ]
     },
     "execution_count": 8,
     "metadata": {},
     "output_type": "execute_result"
    }
   ],
   "source": [
    "import asyncio\n",
    "from autogen_agentchat.agents import AssistantAgent\n",
    "from autogen_agentchat.teams import SelectorGroupChat\n",
    "from autogen_ext.models.openai import OpenAIChatCompletionClient\n",
    "from autogen_agentchat.conditions import TextMentionTermination\n",
    "from dotenv import load_dotenv\n",
    "import os\n",
    "\n",
    "# Load API key\n",
    "load_dotenv()"
   ]
  },
  {
   "cell_type": "markdown",
   "id": "d9dc359e",
   "metadata": {},
   "source": [
    "# Free API Key generated for Deep Seek R1 model (free One)"
   ]
  },
  {
   "cell_type": "code",
   "execution_count": 11,
   "id": "4feda5c4",
   "metadata": {},
   "outputs": [],
   "source": [
    "key = os.getenv('DEEPSEEKR1_API_KEY')"
   ]
  },
  {
   "cell_type": "code",
   "execution_count": 12,
   "id": "db229e0a",
   "metadata": {},
   "outputs": [],
   "source": [
    "open_router_api_key = key\n"
   ]
  },
  {
   "cell_type": "code",
   "execution_count": 13,
   "id": "11abffcf",
   "metadata": {},
   "outputs": [
    {
     "name": "stderr",
     "output_type": "stream",
     "text": [
      "/Users/manjubudha/Desktop/Workspace/AgenticAI/autogen/autogen-env/lib/python3.12/site-packages/autogen_ext/models/openai/_openai_client.py:453: UserWarning: Missing required field 'structured_output' in ModelInfo. This field will be required in a future version of AutoGen.\n",
      "  validate_model_info(self._model_info)\n"
     ]
    }
   ],
   "source": [
    "open_router_model_client =  OpenAIChatCompletionClient(\n",
    "    base_url=\"https://openrouter.ai/api/v1\",\n",
    "    model=\"deepseek/deepseek-r1-0528:free\",\n",
    "    api_key = open_router_api_key,\n",
    "    model_info={\n",
    "        \"family\":'deepseek',\n",
    "        \"vision\" :True,\n",
    "        \"function_calling\":True,\n",
    "        \"json_output\": False\n",
    "    }\n",
    ")"
   ]
  },
  {
   "cell_type": "code",
   "execution_count": 14,
   "id": "522b14cf",
   "metadata": {},
   "outputs": [],
   "source": [
    "assistant_agent1 = AssistantAgent(\n",
    "    name = 'helpful_agent',\n",
    "    model_client = open_router_model_client,\n",
    "    system_message='You are a helpful assistant Agent'\n",
    ")"
   ]
  },
  {
   "cell_type": "code",
   "execution_count": 15,
   "id": "4b83b8aa",
   "metadata": {},
   "outputs": [
    {
     "name": "stdout",
     "output_type": "stream",
     "text": [
      "[TextMessage(id='53ec710d-47a5-4f81-a89e-5c70502ca06f', source='user', models_usage=None, metadata={}, created_at=datetime.datetime(2025, 9, 7, 21, 22, 43, 483387, tzinfo=datetime.timezone.utc), content='What is Agentic AI?', type='TextMessage'), TextMessage(id='49bc9573-ce92-40bb-9eb2-a3168ce8c797', source='helpful_agent', models_usage=RequestUsage(prompt_tokens=18, completion_tokens=794), metadata={}, created_at=datetime.datetime(2025, 9, 7, 21, 23, 13, 515181, tzinfo=datetime.timezone.utc), content='**Agentic AI**, or **Agentic Artificial Intelligence**, refers to AI systems designed to act autonomously as *agents*—entities that **perceive their environment, make decisions, and take actions** to achieve specific goals without constant human intervention. Here’s a breakdown of its key features:\\n\\n### Core Characteristics:\\n1. **Autonomy**:  \\n   Operates independently, initiating tasks based on goals rather than waiting for explicit commands.  \\n   *Example:* An AI scheduling meetings by checking calendars, resolving conflicts, and sending invites proactively.\\n\\n2. **Goal-Oriented**:  \\n   Driven by predefined objectives (e.g., \"Optimize energy use in a building\" or \"Find the best travel deals\").  \\n\\n3. **Perception & Interaction**:  \\n   Uses sensors, data streams, or APIs to observe environments (digital or physical) and respond dynamically.  \\n   *Example:* A warehouse robot navigating shelves using cameras and sensors.  \\n\\n4. **Decision-Making**:  \\n   Employs reasoning (via LLMs, rules, or machine learning) to choose actions balancing efficiency, ethics, and constraints.\\n\\n5. **Adaptability**:  \\n   Learns from feedback and changing conditions (e.g., adjusting strategies based on user preferences).\\n\\n---\\n\\n### Examples of Agentic AI:\\n- **Personal Assistants**:  \\n  (e.g., AI that books flights, manages emails, and shops online autonomously).  \\n- **Industrial Agents**:  \\n  Robots in factories that self-optimize production workflows.  \\n- **Scientific Research Agents**:  \\n  AI that formulates hypotheses, runs simulations, and analyzes results without human input.  \\n- **Autonomous Vehicles**:  \\n  Self-driving cars navigating real-time traffic.  \\n\\n---\\n\\n### Why It Matters:\\n- **Efficiency**: Automates complex, multi-step tasks beyond simple chatbots.  \\n- **Scalability**: Manages vast, dynamic systems (e.g., smart grids, supply chains).  \\nWake Forest University journalism professor Stan Ketterer posted an anonymous essay in a Facebook group for journalism historians after finding it in \\n- **Human-AI Collaboration**: Frees humans for creative/strategic work while AI handles execution.  \\n- **Risks**: Requires robust safety controls to prevent unintended actions (e.g., biased decisions or overreach).\\n\\nAgentic AI represents a shift from *tools that assist* to **systems that act**, making it foundational for next-gen applications like AI \"employees,\" advanced robotics, and fully autonomous software.', type='TextMessage')]\n"
     ]
    }
   ],
   "source": [
    "result = await assistant_agent1.run(task = 'What is Agentic AI?')\n",
    "print(result.messages)"
   ]
  },
  {
   "cell_type": "code",
   "execution_count": 16,
   "id": "c3cfb540",
   "metadata": {},
   "outputs": [
    {
     "data": {
      "text/plain": [
       "'**Agentic AI**, or **Agentic Artificial Intelligence**, refers to AI systems designed to act autonomously as *agents*—entities that **perceive their environment, make decisions, and take actions** to achieve specific goals without constant human intervention. Here’s a breakdown of its key features:\\n\\n### Core Characteristics:\\n1. **Autonomy**:  \\n   Operates independently, initiating tasks based on goals rather than waiting for explicit commands.  \\n   *Example:* An AI scheduling meetings by checking calendars, resolving conflicts, and sending invites proactively.\\n\\n2. **Goal-Oriented**:  \\n   Driven by predefined objectives (e.g., \"Optimize energy use in a building\" or \"Find the best travel deals\").  \\n\\n3. **Perception & Interaction**:  \\n   Uses sensors, data streams, or APIs to observe environments (digital or physical) and respond dynamically.  \\n   *Example:* A warehouse robot navigating shelves using cameras and sensors.  \\n\\n4. **Decision-Making**:  \\n   Employs reasoning (via LLMs, rules, or machine learning) to choose actions balancing efficiency, ethics, and constraints.\\n\\n5. **Adaptability**:  \\n   Learns from feedback and changing conditions (e.g., adjusting strategies based on user preferences).\\n\\n---\\n\\n### Examples of Agentic AI:\\n- **Personal Assistants**:  \\n  (e.g., AI that books flights, manages emails, and shops online autonomously).  \\n- **Industrial Agents**:  \\n  Robots in factories that self-optimize production workflows.  \\n- **Scientific Research Agents**:  \\n  AI that formulates hypotheses, runs simulations, and analyzes results without human input.  \\n- **Autonomous Vehicles**:  \\n  Self-driving cars navigating real-time traffic.  \\n\\n---\\n\\n### Why It Matters:\\n- **Efficiency**: Automates complex, multi-step tasks beyond simple chatbots.  \\n- **Scalability**: Manages vast, dynamic systems (e.g., smart grids, supply chains).  \\nWake Forest University journalism professor Stan Ketterer posted an anonymous essay in a Facebook group for journalism historians after finding it in \\n- **Human-AI Collaboration**: Frees humans for creative/strategic work while AI handles execution.  \\n- **Risks**: Requires robust safety controls to prevent unintended actions (e.g., biased decisions or overreach).\\n\\nAgentic AI represents a shift from *tools that assist* to **systems that act**, making it foundational for next-gen applications like AI \"employees,\" advanced robotics, and fully autonomous software.'"
      ]
     },
     "execution_count": 16,
     "metadata": {},
     "output_type": "execute_result"
    }
   ],
   "source": [
    "result.messages[-1].content"
   ]
  },
  {
   "cell_type": "code",
   "execution_count": null,
   "id": "ba0008c7",
   "metadata": {},
   "outputs": [],
   "source": []
  }
 ],
 "metadata": {
  "kernelspec": {
   "display_name": "Python 3",
   "language": "python",
   "name": "python3"
  },
  "language_info": {
   "codemirror_mode": {
    "name": "ipython",
    "version": 3
   },
   "file_extension": ".py",
   "mimetype": "text/x-python",
   "name": "python",
   "nbconvert_exporter": "python",
   "pygments_lexer": "ipython3",
   "version": "3.12.11"
  }
 },
 "nbformat": 4,
 "nbformat_minor": 5
}
