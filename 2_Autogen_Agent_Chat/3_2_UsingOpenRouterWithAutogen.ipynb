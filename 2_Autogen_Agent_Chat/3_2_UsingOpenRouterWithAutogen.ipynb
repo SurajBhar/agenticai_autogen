{
 "cells": [
  {
   "cell_type": "markdown",
   "id": "56ac296d",
   "metadata": {},
   "source": [
    "# Using Autogen with OpenRouter API ( Free API Key :) "
   ]
  },
  {
   "cell_type": "markdown",
   "id": "395be4eb",
   "metadata": {},
   "source": [
    "1. OpenAI\n",
    "2. Local ollama setup (llama or mistral)\n"
   ]
  },
  {
   "cell_type": "code",
   "execution_count": 1,
   "id": "68c71357",
   "metadata": {},
   "outputs": [
    {
     "data": {
      "text/plain": [
       "True"
      ]
     },
     "execution_count": 1,
     "metadata": {},
     "output_type": "execute_result"
    }
   ],
   "source": [
    "import asyncio\n",
    "from autogen_agentchat.agents import AssistantAgent\n",
    "from autogen_agentchat.teams import SelectorGroupChat\n",
    "from autogen_ext.models.openai import OpenAIChatCompletionClient\n",
    "from autogen_agentchat.conditions import TextMentionTermination\n",
    "from dotenv import load_dotenv\n",
    "import os\n",
    "\n",
    "# Load API key\n",
    "load_dotenv()"
   ]
  },
  {
   "cell_type": "markdown",
   "id": "d9dc359e",
   "metadata": {},
   "source": [
    "# Free API Key generated for Deep Seek R1 model (free One)"
   ]
  },
  {
   "cell_type": "code",
   "execution_count": 7,
   "id": "db229e0a",
   "metadata": {},
   "outputs": [],
   "source": [
    "open_router_api_key ='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' \n"
   ]
  },
  {
   "cell_type": "code",
   "execution_count": 8,
   "id": "11abffcf",
   "metadata": {},
   "outputs": [],
   "source": [
    "open_router_model_client =  OpenAIChatCompletionClient(\n",
    "    base_url=\"https://openrouter.ai/api/v1\",\n",
    "    model=\"deepseek/deepseek-r1-0528:free\",\n",
    "    api_key = open_router_api_key,\n",
    "    model_info={\n",
    "        \"family\":'deepseek',\n",
    "        \"vision\" :True,\n",
    "        \"function_calling\":True,\n",
    "        \"json_output\": False\n",
    "    }\n",
    ")"
   ]
  },
  {
   "cell_type": "code",
   "execution_count": 9,
   "id": "522b14cf",
   "metadata": {},
   "outputs": [],
   "source": [
    "assistant_agent1 = AssistantAgent(\n",
    "    name = 'helpful_agent',\n",
    "    model_client = open_router_model_client,\n",
    "    system_message='You are a helpful assistant Agent'\n",
    ")"
   ]
  },
  {
   "cell_type": "code",
   "execution_count": 12,
   "id": "4b83b8aa",
   "metadata": {},
   "outputs": [
    {
     "name": "stdout",
     "output_type": "stream",
     "text": [
      "[TextMessage(id='69f1d770-7f50-4a75-9e4f-1ff1dd126d96', source='user', models_usage=None, metadata={}, created_at=datetime.datetime(2025, 9, 7, 21, 9, 9, 684551, tzinfo=datetime.timezone.utc), content='What is Agentic AI?', type='TextMessage'), TextMessage(id='4ced9461-2bad-4121-943d-9ad337b86241', source='helpful_agent', models_usage=RequestUsage(prompt_tokens=71, completion_tokens=644), metadata={}, created_at=datetime.datetime(2025, 9, 7, 21, 9, 28, 958202, tzinfo=datetime.timezone.utc), content='Agentic AI refers to **artificially intelligent systems designed to act autonomously, proactively, and with a sense of purpose** toward achieving complex goals. Unlike traditional AI models (which typically respond to specific inputs with pre-defined outputs), agentic AI can:  \\n\\n### Key Characteristics:\\n1. **Autonomy**  \\n   - Operate independently, making decisions without constant human input.  \\n2. **Reasoning & Planning**  \\n   - Break down complex tasks, create step-by-step plans, and adapt strategies dynamically.  \\n3. **Tool Use**  \\n   - Integrate APIs, databases, browsers, or specialized software (e.g., writing code, analyzing data).  \\n4. **Multi-Step Execution**  \\n   - Chain actions, learn from failures, and persist toward long-term objectives.  \\n5. **Memory & Context**  \\n   - Retain information across interactions to inform future decisions.  \\n\\n### Examples:\\n- An AI that autonomously researches, writes, and edits a report based on a high-level goal.  \\n- A coding agent that builds/debugs an entire software module iteratively.  \\n- An AI \"personal assistant\" booking flights while coordinating schedules, budgets, and preferences.  \\n\\n### Why It Matters:\\nAgentic AI systems (like AutoGPT, BabyAGI, or project teams such as Meta’s Cicero) aim to handle **real-world, open-ended tasks** — essentially acting as \"autonomous software engineers,\" researchers, or analysts.  \\n\\n### Limitations/Risks:  \\n- **Hallucinations or errors** can compound in multi-step tasks.  \\n- Requires strict **safety guardrails** to prevent unintended actions.  \\n- Still experimental; human supervision is often needed for critical use cases.  \\n\\n> Think of it as AI that doesn’t just *answer questions* — it *executes projects*. If you have a specific use case in mind, I can dive deeper! 🚀', type='TextMessage')]\n"
     ]
    }
   ],
   "source": [
    "result = await assistant_agent1.run(task = 'What is Agentic AI?')\n",
    "print(result.messages)"
   ]
  },
  {
   "cell_type": "code",
   "execution_count": 13,
   "id": "c3cfb540",
   "metadata": {},
   "outputs": [
    {
     "data": {
      "text/plain": [
       "'Agentic AI refers to **artificially intelligent systems designed to act autonomously, proactively, and with a sense of purpose** toward achieving complex goals. Unlike traditional AI models (which typically respond to specific inputs with pre-defined outputs), agentic AI can:  \\n\\n### Key Characteristics:\\n1. **Autonomy**  \\n   - Operate independently, making decisions without constant human input.  \\n2. **Reasoning & Planning**  \\n   - Break down complex tasks, create step-by-step plans, and adapt strategies dynamically.  \\n3. **Tool Use**  \\n   - Integrate APIs, databases, browsers, or specialized software (e.g., writing code, analyzing data).  \\n4. **Multi-Step Execution**  \\n   - Chain actions, learn from failures, and persist toward long-term objectives.  \\n5. **Memory & Context**  \\n   - Retain information across interactions to inform future decisions.  \\n\\n### Examples:\\n- An AI that autonomously researches, writes, and edits a report based on a high-level goal.  \\n- A coding agent that builds/debugs an entire software module iteratively.  \\n- An AI \"personal assistant\" booking flights while coordinating schedules, budgets, and preferences.  \\n\\n### Why It Matters:\\nAgentic AI systems (like AutoGPT, BabyAGI, or project teams such as Meta’s Cicero) aim to handle **real-world, open-ended tasks** — essentially acting as \"autonomous software engineers,\" researchers, or analysts.  \\n\\n### Limitations/Risks:  \\n- **Hallucinations or errors** can compound in multi-step tasks.  \\n- Requires strict **safety guardrails** to prevent unintended actions.  \\n- Still experimental; human supervision is often needed for critical use cases.  \\n\\n> Think of it as AI that doesn’t just *answer questions* — it *executes projects*. If you have a specific use case in mind, I can dive deeper! 🚀'"
      ]
     },
     "execution_count": 13,
     "metadata": {},
     "output_type": "execute_result"
    }
   ],
   "source": [
    "result.messages[-1].content"
   ]
  },
  {
   "cell_type": "code",
   "execution_count": null,
   "id": "ba0008c7",
   "metadata": {},
   "outputs": [],
   "source": []
  }
 ],
 "metadata": {
  "kernelspec": {
   "display_name": "Python 3",
   "language": "python",
   "name": "python3"
  },
  "language_info": {
   "codemirror_mode": {
    "name": "ipython",
    "version": 3
   },
   "file_extension": ".py",
   "mimetype": "text/x-python",
   "name": "python",
   "nbconvert_exporter": "python",
   "pygments_lexer": "ipython3",
   "version": "3.12.11"
  }
 },
 "nbformat": 4,
 "nbformat_minor": 5
}
