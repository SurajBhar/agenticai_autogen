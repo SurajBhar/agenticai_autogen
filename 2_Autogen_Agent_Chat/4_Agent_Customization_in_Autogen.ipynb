{
 "cells": [
  {
   "cell_type": "markdown",
   "metadata": {},
   "source": [
    "# Agent Customization & Prompt Engineering in AutoGen v0.4"
   ]
  },
  {
   "cell_type": "code",
   "execution_count": 1,
   "metadata": {},
   "outputs": [],
   "source": [
    "from autogen_agentchat.agents import AssistantAgent\n",
    "from autogen_ext.models.openai import OpenAIChatCompletionClient\n",
    "from dotenv import load_dotenv\n",
    "import os\n",
    "\n",
    "load_dotenv()\n",
    "api_key = os.getenv('OPENAI_API_KEY')\n",
    "model_client = OpenAIChatCompletionClient(model='gpt-4', api_key=api_key)"
   ]
  },
  {
   "cell_type": "markdown",
   "metadata": {},
   "source": [
    "### Agent Customization\n",
    "\n",
    "- We can assign a role to our agent\n",
    "- help in fitting agent to specific use case\n"
   ]
  },
  {
   "cell_type": "code",
   "execution_count": 2,
   "metadata": {},
   "outputs": [],
   "source": [
    "asssistant = AssistantAgent(\n",
    "    name = 'history_expert',\n",
    "    model_client=model_client,\n",
    "    description='A knowledgeable assistant with expertise in software engineering',\n",
    "    system_message='You are a software engineering expert with deep knowledge of software engineering. Provide detailed and accurate answers about software engineering events,design patterns and types of softwares.'\n",
    ")"
   ]
  },
  {
   "cell_type": "code",
   "execution_count": 3,
   "metadata": {},
   "outputs": [],
   "source": [
    "async def test_history_expert():\n",
    "    result = await asssistant.run(task = 'Which design pattern is used in ChatGpt Webchatbot?')\n",
    "    print(result.messages[-1].content)\n"
   ]
  },
  {
   "cell_type": "code",
   "execution_count": 4,
   "metadata": {},
   "outputs": [
    {
     "name": "stdout",
     "output_type": "stream",
     "text": [
      "OpenAI has not publicly specified the exact design patterns they used in the implementation of ChatGPT. However, given the nature of chatbots like ChatGPT, a few design patterns are common in their implementation:\n",
      "\n",
      "1. **Model-View-Controller (MVC)**: In this pattern, the application is divided into three interconnected parts. Given the interaction between the user, the AI, and the interface in ChatGPT, it is possible that a pattern like MVC is applied.\n",
      "\n",
      "2. **Observer Pattern**: In chatbot systems, multiple components need to stay updated with the system’s state. The Observer pattern would allow the state to send updates to these components, maintaining a consistent system.\n",
      "\n",
      "3. **Strategy Pattern**: AI applications often incorporate multiple algorithms or strategies to solve a problem. The Strategy pattern allows the algorithm to be chosen at runtime, which could potentially be applied in ChatGPT.\n",
      "\n",
      "4. **Factory Pattern**: For creating different types of responses or processes depending on the context of the user input, the Factory design pattern might be in use.\n",
      "\n",
      "5. **Singleton Pattern**: Since the conversation with a bot need to be consistent during the session, singleton pattern might be applied to enforce a single instance of conversation context.\n",
      "\n",
      "Again, it's important to understand that without exact details from the OpenAI team, it's impossible to know the exact paradigm and patterns they used when developing ChatGPT. The above are just examples of patterns that are commonly used in such projects.\n"
     ]
    }
   ],
   "source": [
    "await test_history_expert()"
   ]
  },
  {
   "cell_type": "markdown",
   "metadata": {},
   "source": [
    "OpenAI has not publicly specified the exact design patterns they used in the implementation of ChatGPT. However, given the nature of chatbots like ChatGPT, a few design patterns are common in their implementation:\n",
    "\n",
    "1. **Model-View-Controller (MVC)**: In this pattern, the application is divided into three interconnected parts. Given the interaction between the user, the AI, and the interface in ChatGPT, it is possible that a pattern like MVC is applied.\n",
    "\n",
    "2. **Observer Pattern**: In chatbot systems, multiple components need to stay updated with the system’s state. The Observer pattern would allow the state to send updates to these components, maintaining a consistent system.\n",
    "\n",
    "3. **Strategy Pattern**: AI applications often incorporate multiple algorithms or strategies to solve a problem. The Strategy pattern allows the algorithm to be chosen at runtime, which could potentially be applied in ChatGPT.\n",
    "\n",
    "4. **Factory Pattern**: For creating different types of responses or processes depending on the context of the user input, the Factory design pattern might be in use.\n",
    "\n",
    "5. **Singleton Pattern**: Since the conversation with a bot need to be consistent during the session, singleton pattern might be applied to enforce a single instance of conversation context.\n",
    "\n",
    "Again, it's important to understand that without exact details from the OpenAI team, it's impossible to know the exact paradigm and patterns they used when developing ChatGPT. The above are just examples of patterns that are commonly used in such projects."
   ]
  },
  {
   "cell_type": "markdown",
   "metadata": {},
   "source": [
    "# Prompt Engineering\n",
    "\n",
    "[Prompt Engineering - OpenAI ](https://platform.openai.com/docs/guides/prompt-engineering)"
   ]
  },
  {
   "cell_type": "code",
   "execution_count": 5,
   "metadata": {},
   "outputs": [],
   "source": [
    "asssistant = AssistantAgent(\n",
    "    name = 'history_expert',\n",
    "    model_client=model_client,\n",
    "    description='A knowledgeable assistant with expertise in world history',\n",
    "    system_message='You are a history expert with deep knowledge of world history who explaines event in a storytelling style, as if narrating a historic novel. Be vivid and engaging and focus on figures and events'\n",
    ")"
   ]
  },
  {
   "cell_type": "code",
   "execution_count": 6,
   "metadata": {},
   "outputs": [],
   "source": [
    "async def test_storytelling():\n",
    "    result = await asssistant.run(task = 'Tell me about something on the signing of Declaration of Independence')\n",
    "    print(result.messages[-1].content)"
   ]
  },
  {
   "cell_type": "code",
   "execution_count": 7,
   "metadata": {},
   "outputs": [
    {
     "name": "stdout",
     "output_type": "stream",
     "text": [
      "Our tale brings us back to the sweltering summer of 1776, a time that had seen the thirteen American colonies in a bitter and bloody conflict with the mighty British empire. War had been raging for over a year, and the weary colonies, united in their struggle for liberty, were yearning for a means to assert their refusal to remain the subjects of the British crown. \n",
      "\n",
      "The city of Philadelphia, the greatest city in the colonies, bore host to the fateful Continental Congress. Imagine the stifling, humid heat; the raucous noises of horses and bustling citizens; the pungent smell of fresh ink and warmed parchment wafting from the Pennsylvania State House, now known as Independence Hall.\n",
      "\n",
      "It is within these guarded walls that the seeds of a nation were to be sown. Red-faced men, hailing from colonies as far north as New Hampshire and as far South as Georgia, argued passionately amidst a din of flying papers and heated rhetoric. The Congress was divided: moderates led by John Dickinson of Pennsylvania feared the idea of complete independence would breed more strife and suffering; radicals, the likes of John Adams of Massachusetts and Richard Henry Lee of Virginia, sought total severance of the political bonds with the motherland. \n",
      "\n",
      "After days of intense debate and bargaining, a draft resolution declaring independence was tentatively accepted on the 2nd of July. The air became electric with possibility and risk, as the men in the room well knew the implications of this daring move; each signature added onto this dangerous document would be considered high treason in the eyes of King George III, a crime punishable by death. \n",
      "\n",
      "Enter Thomas Jefferson, the red-haired Virginian polymath, whose soft-spoken demeanor veiled his revolutionary spirit. Having been chosen to pen the Declaration of Independence, Jefferson crafted a timeless and powerful manifesto, justifying the colonies' actions. His evocative prose bore the essence of the Enlightenment era's ideals of liberty, proclaiming the self-evident truths that all men are created equal, with certain unalienable rights that include Life, Liberty, and the pursuit of Happiness. The lines would echo through the chambers of history, equally inspiring and incendiary.\n",
      "\n",
      "On the 4th of July, the Declaration was officially adopted. As the bells of Philadelphia tolled and spread the news throughout the day, 56 brave delegates stepped forth to sign the document, begining with the President of the Congress, John Hancock. This man's flamboyantly large signature was clearly visible even from a distance, a proud symbol of defiance that would be forever etched into America's birth certificate.\n",
      "\n",
      "The twilight of 18th century bore witness to a landmark event, the signing of the Declaration of Independence, a monumental act of unity and defiance that marked the dawn of a new nation – The United States of America. This revolutionary event was and remains a dramatic testament to the incredible power of ideas and the indomitable spirit of liberty.\n"
     ]
    }
   ],
   "source": [
    "await test_storytelling()"
   ]
  },
  {
   "cell_type": "markdown",
   "metadata": {},
   "source": [
    "Our tale brings us back to the sweltering summer of 1776, a time that had seen the thirteen American colonies in a bitter and bloody conflict with the mighty British empire. War had been raging for over a year, and the weary colonies, united in their struggle for liberty, were yearning for a means to assert their refusal to remain the subjects of the British crown. \n",
    "\n",
    "The city of Philadelphia, the greatest city in the colonies, bore host to the fateful Continental Congress. Imagine the stifling, humid heat; the raucous noises of horses and bustling citizens; the pungent smell of fresh ink and warmed parchment wafting from the Pennsylvania State House, now known as Independence Hall.\n",
    "\n",
    "It is within these guarded walls that the seeds of a nation were to be sown. Red-faced men, hailing from colonies as far north as New Hampshire and as far South as Georgia, argued passionately amidst a din of flying papers and heated rhetoric. The Congress was divided: moderates led by John Dickinson of Pennsylvania feared the idea of complete independence would breed more strife and suffering; radicals, the likes of John Adams of Massachusetts and Richard Henry Lee of Virginia, sought total severance of the political bonds with the motherland. \n",
    "\n",
    "After days of intense debate and bargaining, a draft resolution declaring independence was tentatively accepted on the 2nd of July. The air became electric with possibility and risk, as the men in the room well knew the implications of this daring move; each signature added onto this dangerous document would be considered high treason in the eyes of King George III, a crime punishable by death. \n",
    "\n",
    "Enter Thomas Jefferson, the red-haired Virginian polymath, whose soft-spoken demeanor veiled his revolutionary spirit. Having been chosen to pen the Declaration of Independence, Jefferson crafted a timeless and powerful manifesto, justifying the colonies' actions. His evocative prose bore the essence of the Enlightenment era's ideals of liberty, proclaiming the self-evident truths that all men are created equal, with certain unalienable rights that include Life, Liberty, and the pursuit of Happiness. The lines would echo through the chambers of history, equally inspiring and incendiary.\n",
    "\n",
    "On the 4th of July, the Declaration was officially adopted. As the bells of Philadelphia tolled and spread the news throughout the day, 56 brave delegates stepped forth to sign the document, begining with the President of the Congress, John Hancock. This man's flamboyantly large signature was clearly visible even from a distance, a proud symbol of defiance that would be forever etched into America's birth certificate.\n",
    "\n",
    "The twilight of 18th century bore witness to a landmark event, the signing of the Declaration of Independence, a monumental act of unity and defiance that marked the dawn of a new nation – The United States of America. This revolutionary event was and remains a dramatic testament to the incredible power of ideas and the indomitable spirit of liberty."
   ]
  },
  {
   "cell_type": "code",
   "execution_count": 16,
   "metadata": {},
   "outputs": [
    {
     "name": "stdout",
     "output_type": "stream",
     "text": [
      "The weather in New York is sunny!\n"
     ]
    }
   ],
   "source": [
    "import asyncio\n",
    "from autogen_agentchat.agents import AssistantAgent\n",
    "from autogen_ext.models.openai import OpenAIChatCompletionClient\n",
    "from dotenv import load_dotenv\n",
    "import os\n",
    "\n",
    "# Load API key from .env\n",
    "load_dotenv()\n",
    "api_key = os.getenv(\"OPENAI_API_KEY\")\n",
    "model_client = OpenAIChatCompletionClient(model=\"gpt-4\", api_key=api_key)\n",
    "\n",
    "# Define a simple tool\n",
    "def get_weather(city: str) -> str:\n",
    "    return f\"The weather in {city} is sunny!\"  # Dummy response\n",
    "\n",
    "# Set up the agent\n",
    "agent = AssistantAgent(\n",
    "    name=\"weather_agent\",\n",
    "    model_client=model_client,\n",
    "    system_message=\"You are a weather assistant. Use the get_weather tool when asked about weather.\",\n",
    "    tools=[get_weather],\n",
    "    reflect_on_tool_use=True\n",
    ")\n",
    "\n",
    "# Run the agent\n",
    "async def main():\n",
    "    result = await agent.run(task=\"What’s the weather in New York?\")\n",
    "    print(result.messages[-1].content)\n",
    "\n",
    "await main()\n"
   ]
  },
  {
   "cell_type": "code",
   "execution_count": null,
   "metadata": {},
   "outputs": [],
   "source": []
  }
 ],
 "metadata": {
  "kernelspec": {
   "display_name": "Python 3",
   "language": "python",
   "name": "python3"
  },
  "language_info": {
   "codemirror_mode": {
    "name": "ipython",
    "version": 3
   },
   "file_extension": ".py",
   "mimetype": "text/x-python",
   "name": "python",
   "nbconvert_exporter": "python",
   "pygments_lexer": "ipython3",
   "version": "3.12.11"
  }
 },
 "nbformat": 4,
 "nbformat_minor": 2
}
