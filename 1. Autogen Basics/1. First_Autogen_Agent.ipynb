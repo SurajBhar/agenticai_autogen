{
 "cells": [
  {
   "cell_type": "markdown",
   "metadata": {},
   "source": [
    "# Our First Autogen Agent"
   ]
  },
  {
   "cell_type": "code",
   "execution_count": 1,
   "metadata": {},
   "outputs": [
    {
     "name": "stdout",
     "output_type": "stream",
     "text": [
      "Hello World\n"
     ]
    }
   ],
   "source": [
    "print(\"Hello World\")"
   ]
  },
  {
   "cell_type": "markdown",
   "metadata": {},
   "source": [
    "# My First AutoGen Agent (v0.7.4)\n",
    "In this notebook, we’ll build a simple agent using AutoGen v0.4 and OpenAI’s GPT-4. We’ll ask it a fun question and see how it responds. This is the latest version, so you’re learning the cutting-edge way to create AI agents!"
   ]
  },
  {
   "cell_type": "code",
   "execution_count": 2,
   "metadata": {},
   "outputs": [],
   "source": [
    "from autogen_agentchat.agents import AssistantAgent\n",
    "from autogen_ext.models.openai import OpenAIChatCompletionClient\n",
    "from dotenv import load_dotenv\n",
    "import os\n",
    "\n",
    "load_dotenv()\n",
    "\n",
    "api_key = os.getenv('OPENAI_API_KEY')"
   ]
  },
  {
   "cell_type": "markdown",
   "metadata": {},
   "source": [
    "## Connecting to the Model\n",
    "We use `OpenAIChatCompletionClient` to link our agent to GPT-4. In v0.4, this replaces the older `llm_config` approach."
   ]
  },
  {
   "cell_type": "code",
   "execution_count": 3,
   "metadata": {},
   "outputs": [],
   "source": [
    "model_client = OpenAIChatCompletionClient(model='gpt-4',api_key=api_key)"
   ]
  },
  {
   "cell_type": "markdown",
   "metadata": {},
   "source": [
    "## Building the Agent\n",
    "The `AssistantAgent` is a conversational AI that can respond to tasks. We’ll give it a name and connect it to our model."
   ]
  },
  {
   "cell_type": "code",
   "execution_count": 4,
   "metadata": {},
   "outputs": [],
   "source": [
    "assistant = AssistantAgent(name = 'my_assistant',model_client=model_client)"
   ]
  },
  {
   "cell_type": "markdown",
   "metadata": {},
   "source": [
    "## Asking the Agent a Question\n",
    "We’ll use the `run` method—a simple way in v0.4 to get a response. Watch this!"
   ]
  },
  {
   "cell_type": "code",
   "execution_count": 5,
   "metadata": {},
   "outputs": [
    {
     "name": "stdout",
     "output_type": "stream",
     "text": [
      "messages=[TextMessage(id='030b2504-21fb-42b3-abe6-9b97863d597e', source='user', models_usage=None, metadata={}, created_at=datetime.datetime(2025, 9, 4, 9, 38, 56, 805943, tzinfo=datetime.timezone.utc), content='Tell me a fun fact about Germany.', type='TextMessage'), TextMessage(id='fa633502-be86-438e-bb7c-dc107ead5e51', source='my_assistant', models_usage=RequestUsage(prompt_tokens=44, completion_tokens=57), metadata={}, created_at=datetime.datetime(2025, 9, 4, 9, 39, 5, 526343, tzinfo=datetime.timezone.utc), content='Did you know that Frankfurt Airport in Germany is one of the busiest airports in the world? It is also the busiest airport by passenger traffic in Germany. Furthermore, Germany is known for its high-quality education system, leading to it being home to some of the top universities in the world.', type='TextMessage')] stop_reason=None\n"
     ]
    }
   ],
   "source": [
    "result = await assistant.run(task = \"Tell me a fun fact about Germany.\")\n",
    "\n",
    "print(result)"
   ]
  },
  {
   "cell_type": "code",
   "execution_count": 6,
   "metadata": {},
   "outputs": [
    {
     "name": "stdout",
     "output_type": "stream",
     "text": [
      "Did you know that Frankfurt Airport in Germany is one of the busiest airports in the world? It is also the busiest airport by passenger traffic in Germany. Furthermore, Germany is known for its high-quality education system, leading to it being home to some of the top universities in the world.\n"
     ]
    }
   ],
   "source": [
    "print(result.messages[-1].content)"
   ]
  },
  {
   "cell_type": "code",
   "execution_count": 7,
   "metadata": {},
   "outputs": [
    {
     "name": "stdout",
     "output_type": "stream",
     "text": [
      "The University of Siegen is a renowned educational institution located in Siegen, North Rhine-Westphalia, Germany. \n",
      "\n",
      "Student life at the University of Siegen is characterized by its interdisciplinary focus, diverse social communities, and numerous opportunities for personal and professional development. \n",
      "\n",
      "The university offers a range of student clubs and organizations that cater to a wide variety of interests, providing a highly engaged social environment. These may include sports clubs, cultural associations, and academic societies.\n",
      "\n",
      "Students at the University of Siegen also have access to a range of support services designed to facilitate their academic growth, including libraries, study spaces, technology resources, and guidance counsellors.\n",
      "\n",
      "Sports and health are heavily emphasized, with the university offering a sports program that explores different types of sports and fosters a healthy lifestyle. \n",
      "\n",
      "The university also organizes various events through the year, promoting cultural diversity, scientific exchange, and social interaction. These activities play an important role in providing students with a well-rounded educational experience.\n",
      "\n",
      "Please note that the availability of these activities and resources may change due to the ongoing COVID-19 pandemic. Students are advised to check the latest updates from the university. \n",
      "\n",
      "TERMINATE\n"
     ]
    }
   ],
   "source": [
    "result = await assistant.run(task = \"Tell me something about student life at University of Siegen?\")\n",
    "print(result.messages[-1].content)"
   ]
  },
  {
   "cell_type": "code",
   "execution_count": null,
   "metadata": {},
   "outputs": [],
   "source": []
  }
 ],
 "metadata": {
  "kernelspec": {
   "display_name": "Python 3",
   "language": "python",
   "name": "python3"
  },
  "language_info": {
   "codemirror_mode": {
    "name": "ipython",
    "version": 3
   },
   "file_extension": ".py",
   "mimetype": "text/x-python",
   "name": "python",
   "nbconvert_exporter": "python",
   "pygments_lexer": "ipython3",
   "version": "3.12.11"
  }
 },
 "nbformat": 4,
 "nbformat_minor": 2
}
